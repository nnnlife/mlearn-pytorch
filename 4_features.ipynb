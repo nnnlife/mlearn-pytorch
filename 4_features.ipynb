{
 "cells": [
  {
   "cell_type": "markdown",
   "metadata": {},
   "source": [
    "##### Tackling overfitting via regularization(p102)\n",
    "\n",
    "**high variance** - overfitting\n",
    "\n",
    "**high bias** - underfitting\n",
    "\n",
    "variance measures the consistency of the model prediction\n",
    "\n",
    "bias measures how far off the predictions are from the correct values in general\n"
   ]
  },
  {
   "cell_type": "markdown",
   "metadata": {},
   "source": [
    "one way of fiding a good bias-variance tradeoff is tune the complexity of the model via regularization\n",
    "\n",
    "Regularization is a very useful method for handling collinearity (high correlation among features)\n",
    "    \n",
    "when predictors are collinear, small changes in the data can lead to large changes in the coefficient\n",
    "\n",
    "L1 norm: $ \\| \\mathbf{w} \\|_1 = \\sum_{j=1}^p |w_j| $\n",
    "\n",
    "L2 norm: $ \\| \\mathbf{w} \\|_2 = \\sqrt{\\sum_{j=1}^p w_j^2} $\n",
    "\n",
    "L2 regularization: $ \\frac{\\lambda}{2n} \\| \\mathbf{w} \\|^2 = \n",
    "\\frac{\\lambda}{2n} \\sum_{j=1}^m w_j^2 $"
   ]
  },
  {
   "cell_type": "markdown",
   "metadata": {},
   "source": [
    "##### Selecting meaningful features"
   ]
  },
  {
   "cell_type": "markdown",
   "metadata": {},
   "source": [
    "trainig dataset perform better than on the test dataset = overfitting\n",
    "- model has a high variance\n",
    "\n",
    "Common solutions\n",
    "- Collect more trainig data\n",
    "- Introduct a penalty for complexity via regularization\n",
    "- Choose a simpler model with fewer parameters\n",
    "- Reduce the dimensionality of the data"
   ]
  },
  {
   "cell_type": "markdown",
   "metadata": {},
   "source": []
  }
 ],
 "metadata": {
  "kernelspec": {
   "display_name": "Python 3",
   "language": "python",
   "name": "python3"
  },
  "language_info": {
   "codemirror_mode": {
    "name": "ipython",
    "version": 3
   },
   "file_extension": ".py",
   "mimetype": "text/x-python",
   "name": "python",
   "nbconvert_exporter": "python",
   "pygments_lexer": "ipython3",
   "version": "3.12.6"
  }
 },
 "nbformat": 4,
 "nbformat_minor": 2
}
