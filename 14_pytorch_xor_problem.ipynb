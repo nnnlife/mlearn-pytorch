{
 "cells": [
  {
   "cell_type": "markdown",
   "metadata": {},
   "source": [
    "* Understanding and working with PyTorch computation graphs\n",
    "* Working with PyTorch tensor objects\n",
    "* Solving the classic XOR problem and understanding model capacity\n",
    "* Building complex NN models using PyTorch's **Sequential** class and **nn.Module** class\n",
    "* Computing gradients using automatic differentiation and **torch.autograd**"
   ]
  },
  {
   "cell_type": "markdown",
   "metadata": {},
   "source": [
    "PyToch provides Dynamic computational graphs which help debugging friendly\n",
    "\n",
    "Pytorch perform its computations based on a **directed acyclic graph(DAG)**"
   ]
  },
  {
   "cell_type": "code",
   "execution_count": 2,
   "metadata": {},
   "outputs": [
    {
     "name": "stdout",
     "output_type": "stream",
     "text": [
      "Scalar Inputs:  tensor(1)\n",
      "Rank 1 Inputs:  tensor([1])\n",
      "Rank 2 Inputs:  tensor([[1]])\n"
     ]
    }
   ],
   "source": [
    "import torch\n",
    "def compute_z(a, b, c):\n",
    "    r1 = torch.sub(a, b)\n",
    "    r2 = torch.mul(r1, 2)\n",
    "    z = torch.add(r2, c)\n",
    "    return z\n",
    "\n",
    "print('Scalar Inputs: ', compute_z(torch.tensor(1),\n",
    "                                    torch.tensor(2),\n",
    "                                    torch.tensor(3)))\n",
    "print('Rank 1 Inputs: ', compute_z(torch.tensor([1]),\n",
    "                                    torch.tensor([2]),\n",
    "                                    torch.tensor([3])))\n",
    "print('Rank 2 Inputs: ', compute_z(torch.tensor([[1]]),\n",
    "                                    torch.tensor([[2]]),\n",
    "                                    torch.tensor([[3]])))"
   ]
  },
  {
   "cell_type": "code",
   "execution_count": 3,
   "metadata": {},
   "outputs": [
    {
     "name": "stdout",
     "output_type": "stream",
     "text": [
      "tensor(3.1400, requires_grad=True)\n",
      "tensor([1., 2., 3.], requires_grad=True)\n"
     ]
    }
   ],
   "source": [
    "a = torch.tensor(3.14, requires_grad=True)\n",
    "print(a)\n",
    "b = torch.tensor([1.0, 2.0, 3.0], requires_grad=True)\n",
    "print(b)"
   ]
  },
  {
   "cell_type": "code",
   "execution_count": 4,
   "metadata": {},
   "outputs": [
    {
     "name": "stdout",
     "output_type": "stream",
     "text": [
      "tensor([[ 0.9746, -0.1856, -1.3780],\n",
      "        [ 0.3595, -0.6859, -0.8845]])\n"
     ]
    }
   ],
   "source": [
    "import torch.nn as nn\n",
    "torch.manual_seed(0)\n",
    "w = torch.empty(2, 3)\n",
    "nn.init.xavier_normal_(w)\n",
    "print(w)"
   ]
  },
  {
   "cell_type": "markdown",
   "metadata": {},
   "source": [
    "#### Computing gradients via automatic differentiation"
   ]
  },
  {
   "cell_type": "markdown",
   "metadata": {},
   "source": [
    "book will use term gradient to refer to both partial derivatives and gradients\n",
    "\n",
    "a simple example : $ z=wx+b $ , $ Loss=(y-z)^2 $"
   ]
  },
  {
   "cell_type": "code",
   "execution_count": 8,
   "metadata": {},
   "outputs": [
    {
     "name": "stdout",
     "output_type": "stream",
     "text": [
      "<class 'torch.Tensor'>\n",
      "dL/dw :  tensor(-0.5600)\n",
      "dL/db :  tensor(-0.4000)\n",
      "tensor([-0.5600], grad_fn=<MulBackward0>)\n"
     ]
    }
   ],
   "source": [
    "w = torch.tensor(1.0, requires_grad=True)\n",
    "b = torch.tensor(0.5, requires_grad=True)\n",
    "x = torch.tensor([1.4])\n",
    "y = torch.tensor([2.1])\n",
    "\n",
    "# forward\n",
    "z = torch.add(torch.mul(w, x), b)\n",
    "loss = (y-z).pow(2).sum()\n",
    "loss.backward()\n",
    "print(type(loss))\n",
    "print('dL/dw : ', w.grad)\n",
    "print('dL/db : ', b.grad)\n",
    "print(2 * x * ((w * x + b) - y))"
   ]
  },
  {
   "cell_type": "code",
   "execution_count": null,
   "metadata": {},
   "outputs": [],
   "source": []
  }
 ],
 "metadata": {
  "kernelspec": {
   "display_name": "Python 3",
   "language": "python",
   "name": "python3"
  },
  "language_info": {
   "codemirror_mode": {
    "name": "ipython",
    "version": 3
   },
   "file_extension": ".py",
   "mimetype": "text/x-python",
   "name": "python",
   "nbconvert_exporter": "python",
   "pygments_lexer": "ipython3",
   "version": "3.12.6"
  }
 },
 "nbformat": 4,
 "nbformat_minor": 2
}
