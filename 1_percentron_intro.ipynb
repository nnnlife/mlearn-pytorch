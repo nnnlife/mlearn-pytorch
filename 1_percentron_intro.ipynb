{
 "cells": [
  {
   "cell_type": "markdown",
   "metadata": {},
   "source": [
    "$\n",
    "w = \n",
    "\\begin{bmatrix}\n",
    "w_1 \\\\\n",
    ".. \\\\\n",
    "w_m\n",
    "\\end{bmatrix}\n",
    ", \\quad\n",
    "x = \n",
    "\\begin{bmatrix}\n",
    "x_1 \\\\\n",
    ".. \\\\\n",
    "x_m\n",
    "\\end{bmatrix}\n",
    "\\\\~\\\\\n",
    "\\theta = threshold \n",
    "\\\\\n",
    "z = w_1x_1+w_2x_2+...+w_mx_m\n",
    "\\\\~\\\\\n",
    "\\sigma (z) = \n",
    "\\begin{cases}\n",
    "1 \\quad if\\, z \\ge \\theta \\\\\n",
    "0 \\quad otherwise\n",
    "\\end{cases}\n",
    "$"
   ]
  },
  {
   "cell_type": "markdown",
   "metadata": {},
   "source": [
    "Simplify bias unit"
   ]
  },
  {
   "cell_type": "markdown",
   "metadata": {},
   "source": [
    "$\n",
    "z - \\theta \\ge 0 \\\\\n",
    "z= w_1x_1 + \\dots + w_mx_m + b = w^Tx+b\n",
    "$"
   ]
  },
  {
   "cell_type": "markdown",
   "metadata": {},
   "source": [
    "mimic neuron\n",
    "1. initialize the weights and bias unit to 0 or small random numbers\n",
    "2. For each training example\n",
    "    - compute the output value\n",
    "    - update the weights and bias unit\n"
   ]
  },
  {
   "cell_type": "markdown",
   "metadata": {},
   "source": [
    "update weights and bias"
   ]
  },
  {
   "cell_type": "markdown",
   "metadata": {},
   "source": [
    "$\n",
    "w_j :=w_j + \\Delta w_j \\\\\n",
    "b := b+ \\Delta b \\\\\n",
    "\\Delta w_j = \\eta (y^{(i)} - \\hat{y}^{(i)}) x_j^{(i)} \\\\\n",
    "\\Delta b = \\eta (y^{(i)} - \\hat{y}^{(i)})\n",
    "$"
   ]
  },
  {
   "cell_type": "markdown",
   "metadata": {},
   "source": [
    "**epochs** - maximum number of passes over the training set\n",
    "\n",
    "**eta** - learning rate"
   ]
  },
  {
   "cell_type": "code",
   "execution_count": 1,
   "metadata": {},
   "outputs": [],
   "source": [
    "import numpy as np"
   ]
  },
  {
   "cell_type": "code",
   "execution_count": 2,
   "metadata": {},
   "outputs": [
    {
     "ename": "SyntaxError",
     "evalue": "incomplete input (1031246652.py, line 8)",
     "output_type": "error",
     "traceback": [
      "\u001b[1;36m  Cell \u001b[1;32mIn[2], line 8\u001b[1;36m\u001b[0m\n\u001b[1;33m    \u001b[0m\n\u001b[1;37m    ^\u001b[0m\n\u001b[1;31mSyntaxError\u001b[0m\u001b[1;31m:\u001b[0m incomplete input\n"
     ]
    }
   ],
   "source": [
    "class Perceptron:\n",
    "    def __init__(self, eta=0.01, n_iter=50, random_state=1):\n",
    "        self.eta = eta\n",
    "        self.n_iter = n_iter\n",
    "        self.random_state = random_state\n",
    "\n",
    "    def fit(self, X, y):\n",
    "        "
   ]
  },
  {
   "cell_type": "code",
   "execution_count": 3,
   "metadata": {},
   "outputs": [],
   "source": [
    "arr = np.array([[1,2,3], [4,5,6]])"
   ]
  },
  {
   "cell_type": "code",
   "execution_count": 5,
   "metadata": {},
   "outputs": [
    {
     "data": {
      "text/plain": [
       "(2, 3)"
      ]
     },
     "execution_count": 5,
     "metadata": {},
     "output_type": "execute_result"
    }
   ],
   "source": [
    "arr.shape"
   ]
  },
  {
   "cell_type": "code",
   "execution_count": null,
   "metadata": {},
   "outputs": [],
   "source": []
  }
 ],
 "metadata": {
  "kernelspec": {
   "display_name": "Python 3",
   "language": "python",
   "name": "python3"
  },
  "language_info": {
   "codemirror_mode": {
    "name": "ipython",
    "version": 3
   },
   "file_extension": ".py",
   "mimetype": "text/x-python",
   "name": "python",
   "nbconvert_exporter": "python",
   "pygments_lexer": "ipython3",
   "version": "3.12.6"
  }
 },
 "nbformat": 4,
 "nbformat_minor": 2
}
