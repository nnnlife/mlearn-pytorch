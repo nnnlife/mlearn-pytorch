{
 "cells": [
  {
   "cell_type": "markdown",
   "metadata": {},
   "source": [
    "Simple 1 example for adaline"
   ]
  },
  {
   "cell_type": "code",
   "execution_count": 31,
   "metadata": {},
   "outputs": [],
   "source": [
    "import numpy as np\n",
    "import matplotlib.pyplot as plt\n",
    "X = np.array([[1, 2, 3], [4, 5, 6]])\n",
    "# count of weights = features count\n",
    "w = np.array([1., 2., 3.])\n",
    "b = np.float32(0.)\n",
    "y_i = np.array([12, 34])\n",
    "eta = 1"
   ]
  },
  {
   "cell_type": "code",
   "execution_count": 32,
   "metadata": {},
   "outputs": [
    {
     "name": "stdout",
     "output_type": "stream",
     "text": [
      "[14. 32.]\n"
     ]
    }
   ],
   "source": [
    "z = X.dot(w) + b\n",
    "print(z)"
   ]
  },
  {
   "cell_type": "code",
   "execution_count": 33,
   "metadata": {},
   "outputs": [
    {
     "name": "stdout",
     "output_type": "stream",
     "text": [
      "[-2.  2.]\n"
     ]
    }
   ],
   "source": [
    "errors = y_i - z\n",
    "print(errors)"
   ]
  },
  {
   "cell_type": "code",
   "execution_count": 34,
   "metadata": {},
   "outputs": [],
   "source": [
    "# X = 2 x 3, errors = 2 x 1\n"
   ]
  },
  {
   "cell_type": "code",
   "execution_count": 35,
   "metadata": {},
   "outputs": [
    {
     "name": "stdout",
     "output_type": "stream",
     "text": [
      "-6.0 -6.0 -6.0\n",
      "[6. 6. 6.]\n"
     ]
    }
   ],
   "source": [
    "m = X.shape[0]\n",
    "\n",
    "dL__dw1 = (-2 / m) * np.sum(errors * X[:, 0])\n",
    "dL__dw2 = (-2 / m) * np.sum(errors * X[:, 1])\n",
    "dL__dw3 = (-2 / m) * np.sum(errors * X[:, 2])\n",
    "print(dL__dw1, dL__dw2, dL__dw3)\n",
    "dw = 2 * eta * X.T.dot(errors) / X.shape[0]\n",
    "print(dw)\n",
    "# delta should be added opposite direction\n",
    "# which means if partial derivative is negative then move right\n",
    "# negative sign in dw removed in advance"
   ]
  },
  {
   "cell_type": "code",
   "execution_count": 36,
   "metadata": {},
   "outputs": [],
   "source": [
    "w += dw"
   ]
  },
  {
   "cell_type": "code",
   "execution_count": 37,
   "metadata": {},
   "outputs": [
    {
     "data": {
      "text/plain": [
       "array([7., 8., 9.])"
      ]
     },
     "execution_count": 37,
     "metadata": {},
     "output_type": "execute_result"
    }
   ],
   "source": [
    "w"
   ]
  }
 ],
 "metadata": {
  "kernelspec": {
   "display_name": "Python 3",
   "language": "python",
   "name": "python3"
  },
  "language_info": {
   "codemirror_mode": {
    "name": "ipython",
    "version": 3
   },
   "file_extension": ".py",
   "mimetype": "text/x-python",
   "name": "python",
   "nbconvert_exporter": "python",
   "pygments_lexer": "ipython3",
   "version": "3.12.6"
  }
 },
 "nbformat": 4,
 "nbformat_minor": 2
}
